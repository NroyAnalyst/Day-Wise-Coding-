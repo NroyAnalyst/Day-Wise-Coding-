{
  "nbformat": 4,
  "nbformat_minor": 0,
  "metadata": {
    "colab": {
      "provenance": [],
      "authorship_tag": "ABX9TyN2pHrD85b8M3ihs8QexmWM",
      "include_colab_link": true
    },
    "kernelspec": {
      "name": "python3",
      "display_name": "Python 3"
    },
    "language_info": {
      "name": "python"
    }
  },
  "cells": [
    {
      "cell_type": "markdown",
      "metadata": {
        "id": "view-in-github",
        "colab_type": "text"
      },
      "source": [
        "<a href=\"https://colab.research.google.com/github/NroyAnalyst/Day-Wise-Coding-/blob/main/cleaning%20and%20preprocessing%20of%20titanic%20dataset.ipynb\" target=\"_parent\"><img src=\"https://colab.research.google.com/assets/colab-badge.svg\" alt=\"Open In Colab\"/></a>"
      ]
    },
    {
      "cell_type": "code",
      "source": [
        "import pandas as pd\n",
        "from sklearn.preprocessing import LabelEncoder, StandardScaler"
      ],
      "metadata": {
        "id": "yUr3nUAMhE4y"
      },
      "execution_count": 50,
      "outputs": []
    },
    {
      "cell_type": "code",
      "source": [
        "# Load the data\n",
        "df = pd.read_csv('/content/competition_clean.csv')\n",
        "print(df.head())"
      ],
      "metadata": {
        "colab": {
          "base_uri": "https://localhost:8080/"
        },
        "id": "_e79R-tNkG0C",
        "outputId": "ccf1d265-fd49-4bbc-b638-fb5938e7d9e3"
      },
      "execution_count": 55,
      "outputs": [
        {
          "output_type": "stream",
          "name": "stdout",
          "text": [
            "   PassengerId  Pclass     Sex  SibSp  Parch Embarked Title GrpSize FareCat  \\\n",
            "0          892       3    male      0      0        Q    Mr    solo    0-10   \n",
            "1          893       3  female      1      0        S   Mrs  couple    0-10   \n",
            "2          894       2    male      0      0        Q    Mr    solo    0-10   \n",
            "3          895       3    male      0      0        S    Mr    solo    0-10   \n",
            "4          896       3  female      1      1        S   Mrs   group   10-25   \n",
            "\n",
            "  AgeCat  \n",
            "0  32-48  \n",
            "1  32-48  \n",
            "2  48-64  \n",
            "3  16-32  \n",
            "4  16-32  \n"
          ]
        }
      ]
    },
    {
      "cell_type": "code",
      "source": [
        "# 1. Handle missing values - fill missing AgeCat with mode\n",
        "df['AgeCat'].fillna(df['AgeCat'].mode()[0], inplace=True)"
      ],
      "metadata": {
        "colab": {
          "base_uri": "https://localhost:8080/"
        },
        "id": "M_0TOKGLkH0U",
        "outputId": "02ae978e-93e7-4147-ca09-a9ce809ee417"
      },
      "execution_count": 56,
      "outputs": [
        {
          "output_type": "stream",
          "name": "stderr",
          "text": [
            "/tmp/ipython-input-3147817720.py:2: FutureWarning: A value is trying to be set on a copy of a DataFrame or Series through chained assignment using an inplace method.\n",
            "The behavior will change in pandas 3.0. This inplace method will never work because the intermediate object on which we are setting values always behaves as a copy.\n",
            "\n",
            "For example, when doing 'df[col].method(value, inplace=True)', try using 'df.method({col: value}, inplace=True)' or df[col] = df[col].method(value) instead, to perform the operation inplace on the original object.\n",
            "\n",
            "\n",
            "  df['AgeCat'].fillna(df['AgeCat'].mode()[0], inplace=True)\n"
          ]
        }
      ]
    },
    {
      "cell_type": "code",
      "source": [
        "# 2. Drop unnecessary columns - PassengerId is an identifier\n",
        "df.drop(columns=['PassengerId'], inplace=True)"
      ],
      "metadata": {
        "id": "QF2CVlbkkMLJ"
      },
      "execution_count": 57,
      "outputs": []
    },
    {
      "cell_type": "code",
      "source": [
        "# 3. Encode categorical variables using LabelEncoder\n",
        "categorical_cols = df.select_dtypes(include=['object']).columns\n",
        "le = LabelEncoder()\n",
        "for col in categorical_cols:\n",
        "    df[col] = le.fit_transform(df[col])"
      ],
      "metadata": {
        "id": "RDUkf_dckQlx"
      },
      "execution_count": 58,
      "outputs": []
    },
    {
      "cell_type": "code",
      "source": [
        "# 4. Scale numerical features\n",
        "scaler = StandardScaler()\n",
        "num_cols = df.select_dtypes(include=['int64', 'float64']).columns\n",
        "df[num_cols] = scaler.fit_transform(df[num_cols])"
      ],
      "metadata": {
        "id": "4ta3Fcq7kUG-"
      },
      "execution_count": 59,
      "outputs": []
    },
    {
      "cell_type": "code",
      "source": [
        "# Preview the cleaned data\n",
        "print(df.head())"
      ],
      "metadata": {
        "colab": {
          "base_uri": "https://localhost:8080/"
        },
        "id": "gAtSasbkkX3c",
        "outputId": "0dab3487-d0fc-4a9a-c8cb-e39de8df4638"
      },
      "execution_count": 60,
      "outputs": [
        {
          "output_type": "stream",
          "name": "stdout",
          "text": [
            "     Pclass       Sex     SibSp     Parch  Embarked     Title   GrpSize  \\\n",
            "0  0.873482  0.755929 -0.499470 -0.400248 -0.470915  0.103287  0.834337   \n",
            "1  0.873482 -1.322876  0.616992 -0.400248  0.700767  1.373106 -1.570855   \n",
            "2 -0.315819  0.755929 -0.499470 -0.400248 -0.470915  0.103287  0.834337   \n",
            "3  0.873482  0.755929 -0.499470 -0.400248  0.700767  0.103287  0.834337   \n",
            "4  0.873482 -1.322876  0.616992  0.619896  0.700767  1.373106 -0.769124   \n",
            "\n",
            "    FareCat    AgeCat  \n",
            "0 -0.954248  0.880655  \n",
            "1 -0.954248  0.880655  \n",
            "2 -0.954248  2.167766  \n",
            "3 -0.954248 -0.406456  \n",
            "4 -0.312969 -0.406456  \n"
          ]
        }
      ]
    },
    {
      "cell_type": "code",
      "source": [
        "# Save the cleaned dataset if needed\n",
        "df.to_csv('/content/credits.csv', index=False)"
      ],
      "metadata": {
        "id": "qvrp2jQbka_y"
      },
      "execution_count": 61,
      "outputs": []
    }
  ]
}