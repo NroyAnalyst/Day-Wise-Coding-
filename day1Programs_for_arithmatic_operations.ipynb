{
  "nbformat": 4,
  "nbformat_minor": 0,
  "metadata": {
    "colab": {
      "provenance": [],
      "authorship_tag": "ABX9TyNPSuLoVcTPLPzd3WwI8KSM",
      "include_colab_link": true
    },
    "kernelspec": {
      "name": "python3",
      "display_name": "Python 3"
    },
    "language_info": {
      "name": "python"
    }
  },
  "cells": [
    {
      "cell_type": "markdown",
      "metadata": {
        "id": "view-in-github",
        "colab_type": "text"
      },
      "source": [
        "<a href=\"https://colab.research.google.com/github/NroyAnalyst/Day-Wise-Coding-/blob/main/day1Programs_for_arithmatic_operations.ipynb\" target=\"_parent\"><img src=\"https://colab.research.google.com/assets/colab-badge.svg\" alt=\"Open In Colab\"/></a>"
      ]
    },
    {
      "cell_type": "code",
      "execution_count": 1,
      "metadata": {
        "colab": {
          "base_uri": "https://localhost:8080/"
        },
        "id": "YWgMRg5TSwBh",
        "outputId": "ab4ad193-47aa-4f31-f12c-799c307cf20f"
      },
      "outputs": [
        {
          "output_type": "stream",
          "name": "stdout",
          "text": [
            "30\n"
          ]
        }
      ],
      "source": [
        "#Addition program\n",
        "A = 15\n",
        "B = 15\n",
        "Add = A+B\n",
        "print(Add)"
      ]
    },
    {
      "cell_type": "code",
      "source": [
        "#Substraction\n",
        "A = 89\n",
        "B = 59\n",
        "Sub = A - B\n",
        "print(Sub)"
      ],
      "metadata": {
        "colab": {
          "base_uri": "https://localhost:8080/"
        },
        "id": "OkNH9yl2TGT5",
        "outputId": "7f98f679-19a4-4416-f5da-34e6f3a412fe"
      },
      "execution_count": 3,
      "outputs": [
        {
          "output_type": "stream",
          "name": "stdout",
          "text": [
            "30\n"
          ]
        }
      ]
    },
    {
      "cell_type": "code",
      "source": [
        "#Multiplication\n",
        "A = 15\n",
        "B = 15\n",
        "Mul = A*B\n",
        "print(Mul)"
      ],
      "metadata": {
        "colab": {
          "base_uri": "https://localhost:8080/"
        },
        "id": "n3T4svzqTVp5",
        "outputId": "5725d191-425a-4813-db35-dda248b44f09"
      },
      "execution_count": 4,
      "outputs": [
        {
          "output_type": "stream",
          "name": "stdout",
          "text": [
            "225\n"
          ]
        }
      ]
    },
    {
      "cell_type": "code",
      "source": [
        "#Division\n",
        "A = 100\n",
        "B = 25\n",
        "Div = A/B\n",
        "print(Div)\n"
      ],
      "metadata": {
        "colab": {
          "base_uri": "https://localhost:8080/"
        },
        "id": "iW2L_Z0OTet3",
        "outputId": "7e192d30-5af9-4cbe-e013-13d540fea0a8"
      },
      "execution_count": 5,
      "outputs": [
        {
          "output_type": "stream",
          "name": "stdout",
          "text": [
            "4.0\n"
          ]
        }
      ]
    },
    {
      "cell_type": "code",
      "source": [],
      "metadata": {
        "id": "HTvysmoVTomg"
      },
      "execution_count": null,
      "outputs": []
    }
  ]
}